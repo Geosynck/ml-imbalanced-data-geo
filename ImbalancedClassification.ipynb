
{
 "cells": [
  {
   "cell_type": "markdown",
   "metadata": {
    "colab_type": "text",
    "id": "K8iv08gCl4tG"
   },
   "source": [
    "### The Imbalanced Classification Notebook"
   ]
  },
  {
   "cell_type": "code",
   "execution_count": 1,
   "metadata": {
    "colab": {},
    "colab_type": "code",
    "id": "hZbxWiRel-nD"
   },
   "outputs": [],
   "source": [
    "# importing our favorite libraries\n",
    "import numpy as np\n",
    "import pandas as pd\n",
    "\n",
    "from sklearn.model_selection import train_test_split\n",
    "from sklearn.metrics import f1_score,accuracy_score"
   ]
  },
  {
   "cell_type": "markdown",
   "metadata": {
    "colab_type": "text",
    "id": "ak6svyU9lvGj"
   },
   "source": [
    "Let us first create an artificial imabalanced dataset\n",
    "We use 5 features drawn from a standard normal distribution and sample 1010 such rows."
   ]
  },
  {
   "cell_type": "code",
   "execution_count": 2,
   "metadata": {
    "colab": {},
    "colab_type": "code",
    "id": "VXkOhTBv14S4"
   },
   "outputs": [],
   "source": [
    "np.random.seed(1);\n",
    "data = np.random.normal(0,1,(1010,5))"
   ]
  },
  {
   "cell_type": "code",
   "execution_count": 3,
   "metadata": {
    "colab": {},
    "colab_type": "code",
    "id": "4yGQTCL02WY9"
   },
   "outputs": [],
   "source": [
    "# make a dataframe\n",
    "df = pd.DataFrame(data)"
   ]
  },
  {
   "cell_type": "code",
   "execution_count": 4,
   "metadata": {
    "colab": {},
    "colab_type": "code",
    "id": "kjzsKsa82eTX"
   },
   "outputs": [],
   "source": [
    "df[5] = df[0] + df[1] + df[2] + df[3] + df[4]"
   ]
  },
  {
   "cell_type": "code",
   "execution_count": 5,
   "metadata": {
    "colab": {
     "base_uri": "https://localhost:8080/",
     "height": 34
    },
    "colab_type": "code",
    "executionInfo": {
     "elapsed": 13865,
     "status": "ok",
     "timestamp": 1566065365076,
     "user": {