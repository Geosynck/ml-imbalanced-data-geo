
{
 "cells": [
  {
   "cell_type": "markdown",
   "metadata": {
    "colab_type": "text",
    "id": "K8iv08gCl4tG"
   },
   "source": [
    "### The Imbalanced Classification Notebook"
   ]
  },
  {
   "cell_type": "code",
   "execution_count": 1,
   "metadata": {
    "colab": {},
    "colab_type": "code",
    "id": "hZbxWiRel-nD"
   },
   "outputs": [],
   "source": [
    "# importing our favorite libraries\n",
    "import numpy as np\n",
    "import pandas as pd\n",
    "\n",
    "from sklearn.model_selection import train_test_split\n",
    "from sklearn.metrics import f1_score,accuracy_score"
   ]
  },
  {
   "cell_type": "markdown",
   "metadata": {
    "colab_type": "text",
    "id": "ak6svyU9lvGj"
   },
   "source": [
    "Let us first create an artificial imabalanced dataset\n",
    "We use 5 features drawn from a standard normal distribution and sample 1010 such rows."
   ]
  },
  {
   "cell_type": "code",
   "execution_count": 2,
   "metadata": {
    "colab": {},
    "colab_type": "code",
    "id": "VXkOhTBv14S4"
   },
   "outputs": [],
   "source": [
    "np.random.seed(1);\n",
    "data = np.random.normal(0,1,(1010,5))"
   ]
  },
  {
   "cell_type": "code",
   "execution_count": 3,
   "metadata": {
    "colab": {},
    "colab_type": "code",
    "id": "4yGQTCL02WY9"
   },
   "outputs": [],
   "source": [
    "# make a dataframe\n",
    "df = pd.DataFrame(data)"
   ]
  },
  {
   "cell_type": "code",
   "execution_count": 4,
   "metadata": {
    "colab": {},
    "colab_type": "code",
    "id": "kjzsKsa82eTX"
   },
   "outputs": [],
   "source": [
    "df[5] = df[0] + df[1] + df[2] + df[3] + df[4]"
   ]
  },
  {
   "cell_type": "code",
   "execution_count": 5,
   "metadata": {
    "colab": {
     "base_uri": "https://localhost:8080/",
     "height": 34
    },
    "colab_type": "code",
    "executionInfo": {
     "elapsed": 13865,
     "status": "ok",
     "timestamp": 1566065365076,
     "user": {
      "displayName": "Aditya Lahiri",
      "photoUrl": "https://lh4.googleusercontent.com/-LJvczDZOSGI/AAAAAAAAAAI/AAAAAAAAK5w/e-bFAsJ7YPM/s64/photo.jpg",
      "userId": "09797028079853539430"
     },
     "user_tz": -330
    },
    "id": "-WSXcccT2rry",
    "outputId": "0aa513ef-97a8-4b0c-dc01-9a655443ec48"
   },
   "outputs": [
    {
     "data": {
      "text/plain": [
       "(41, 6)"
      ]
     },
     "execution_count": 5,
     "metadata": {},
     "output_type": "execute_result"
    }
   ],
   "source": [
    "df[df[5]>4].shape"
   ]
  },
  {
   "cell_type": "code",
   "execution_count": 6,
   "metadata": {
    "colab": {},
    "colab_type": "code",
    "id": "5NOavbhn215m"
   },
   "outputs": [],
   "source": [
    "label = []\n",
    "for i in df[5].values:\n",
    "    if i>4:\n",
    "        label.append(1)\n",
    "    else:\n",
    "        label.append(0)"
   ]
  },
  {
   "cell_type": "code",
   "execution_count": 7,
   "metadata": {
    "colab": {},
    "colab_type": "code",
    "id": "OqJFIE-v3eOB"
   },
   "outputs": [],
   "source": [
    "df[6] = label"
   ]
  },
  {
   "cell_type": "code",
   "execution_count": 8,
   "metadata": {
    "colab": {},
    "colab_type": "code",
    "id": "aKV3Tkul3v6R"
   },
   "outputs": [],
   "source": [
    "df.drop(columns=[5],inplace=True)\n",
    "df.rename(columns={6:'label'},inplace=True)"
   ]
  },
  {
   "cell_type": "code",
   "execution_count": 9,
   "metadata": {
    "colab": {
     "base_uri": "https://localhost:8080/",
     "height": 204
    },
    "colab_type": "code",
    "executionInfo": {
     "elapsed": 12958,
     "status": "ok",
     "timestamp": 1566065365452,
     "user": {
      "displayName": "Aditya Lahiri",
      "photoUrl": "https://lh4.googleusercontent.com/-LJvczDZOSGI/AAAAAAAAAAI/AAAAAAAAK5w/e-bFAsJ7YPM/s64/photo.jpg",
      "userId": "09797028079853539430"
     },
     "user_tz": -330
    },
    "id": "svmg8DAf4GCC",
    "outputId": "2c9965fa-688a-4c3f-bd4b-2b611306a581"
   },
   "outputs": [
    {
     "data": {
      "text/html": [
       "<div>\n",
       "<style scoped>\n",
       "    .dataframe tbody tr th:only-of-type {\n",
       "        vertical-align: middle;\n",
       "    }\n",
       "\n",
       "    .dataframe tbody tr th {\n",
       "        vertical-align: top;\n",
       "    }\n",
       "\n",
       "    .dataframe thead th {\n",
       "        text-align: right;\n",
       "    }\n",
       "</style>\n",
       "<table border=\"1\" class=\"dataframe\">\n",
       "  <thead>\n",
       "    <tr style=\"text-align: right;\">\n",
       "      <th></th>\n",
       "      <th>0</th>\n",
       "      <th>1</th>\n",
       "      <th>2</th>\n",
       "      <th>3</th>\n",
       "      <th>4</th>\n",
       "      <th>label</th>\n",
       "    </tr>\n",
       "  </thead>\n",
       "  <tbody>\n",
       "    <tr>\n",
       "      <td>0</td>\n",
       "      <td>1.624345</td>\n",
       "      <td>-0.611756</td>\n",
       "      <td>-0.528172</td>\n",
       "      <td>-1.072969</td>\n",
       "      <td>0.865408</td>\n",
       "      <td>0</td>\n",
       "    </tr>\n",
       "    <tr>\n",
       "      <td>1</td>\n",
       "      <td>-2.301539</td>\n",
       "      <td>1.744812</td>\n",
       "      <td>-0.761207</td>\n",
       "      <td>0.319039</td>\n",
       "      <td>-0.249370</td>\n",
       "      <td>0</td>\n",
       "    </tr>\n",
       "    <tr>\n",
       "      <td>2</td>\n",
       "      <td>1.462108</td>\n",
       "      <td>-2.060141</td>\n",
       "      <td>-0.322417</td>\n",
       "      <td>-0.384054</td>\n",
       "      <td>1.133769</td>\n",
       "      <td>0</td>\n",
       "    </tr>\n",
       "    <tr>\n",
       "      <td>3</td>\n",
       "      <td>-1.099891</td>\n",
       "      <td>-0.172428</td>\n",
       "      <td>-0.877858</td>\n",
       "      <td>0.042214</td>\n",
       "      <td>0.582815</td>\n",
       "      <td>0</td>\n",
       "    </tr>\n",
       "    <tr>\n",
       "      <td>4</td>\n",
       "      <td>-1.100619</td>\n",
       "      <td>1.144724</td>\n",
       "      <td>0.901591</td>\n",
       "      <td>0.502494</td>\n",
       "      <td>0.900856</td>\n",
       "      <td>0</td>\n",
       "    </tr>\n",
       "  </tbody>\n",
       "</table>\n",
       "</div>"
      ],
      "text/plain": [
       "          0         1         2         3         4  label\n",
       "0  1.624345 -0.611756 -0.528172 -1.072969  0.865408      0\n",
       "1 -2.301539  1.744812 -0.761207  0.319039 -0.249370      0\n",
       "2  1.462108 -2.060141 -0.322417 -0.384054  1.133769      0\n",
       "3 -1.099891 -0.172428 -0.877858  0.042214  0.582815      0\n",
       "4 -1.100619  1.144724  0.901591  0.502494  0.900856      0"
      ]
     },
     "execution_count": 9,
     "metadata": {},
     "output_type": "execute_result"
    }
   ],
   "source": [
    "df.head()"
   ]
  },
  {
   "cell_type": "code",
   "execution_count": 10,
   "metadata": {
    "colab": {
     "base_uri": "https://localhost:8080/",
     "height": 68
    },
    "colab_type": "code",
    "executionInfo": {
     "elapsed": 11156,
     "status": "ok",
     "timestamp": 1566065365455,
     "user": {
      "displayName": "Aditya Lahiri",
      "photoUrl": "https://lh4.googleusercontent.com/-LJvczDZOSGI/AAAAAAAAAAI/AAAAAAAAK5w/e-bFAsJ7YPM/s64/photo.jpg",
      "userId": "09797028079853539430"
     },
     "user_tz": -330
    },
    "id": "YL2hiN8N4ONQ",
    "outputId": "99b6bd0f-18fa-4fb5-eebf-50d876ede210"
   },
   "outputs": [
    {
     "data": {
      "text/plain": [
       "0    969\n",
       "1     41\n",
       "Name: label, dtype: int64"
      ]
     },
     "execution_count": 10,
     "metadata": {},
     "output_type": "execute_result"
    }
   ],
   "source": [
    "df['label'].value_counts()"
   ]
  },
  {
   "cell_type": "code",
   "execution_count": 11,
   "metadata": {
    "colab": {},
    "colab_type": "code",
    "id": "xkwKs6Rxm7A1"
   },
   "outputs": [],
   "source": [
    "y = df['label']\n",
    "X = df.drop(['label'],axis=1)"
   ]
  },
  {
   "cell_type": "code",
   "execution_count": 12,
   "metadata": {
    "colab": {},
    "colab_type": "code",
    "id": "AD_Fkbhum-Zz"
   },
   "outputs": [],
   "source": [
    "X_train, X_test, y_train, y_test = train_test_split(X, y, test_size=0.33, random_state=42,stratify=y)"
   ]
  },
  {
   "cell_type": "markdown",
   "metadata": {
    "colab_type": "text",
    "id": "3UYSxR_wmub5"
   },
   "source": [
    "###  First let us train and validate a standard XGBoost classifier on this dataset"
   ]
  },
  {
   "cell_type": "code",
   "execution_count": 13,
   "metadata": {
    "colab": {},
    "colab_type": "code",
    "id": "Ni3PReLy4R64"
   },
   "outputs": [],
   "source": [
    "from xgboost import XGBClassifier"
   ]
  },
  {
   "cell_type": "code",
   "execution_count": 14,
   "metadata": {
    "colab": {},
    "colab_type": "code",
    "id": "94gj5GdE4mje"
   },
   "outputs": [],
   "source": [
    "xgb = XGBClassifier(seed=42)"
   ]
  },
  {
   "cell_type": "code",
   "execution_count": 15,
   "metadata": {
    "colab": {
     "base_uri": "https://localhost:8080/",