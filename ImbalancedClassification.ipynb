
{
 "cells": [
  {
   "cell_type": "markdown",
   "metadata": {
    "colab_type": "text",
    "id": "K8iv08gCl4tG"
   },
   "source": [
    "### The Imbalanced Classification Notebook"
   ]
  },
  {
   "cell_type": "code",
   "execution_count": 1,
   "metadata": {
    "colab": {},
    "colab_type": "code",
    "id": "hZbxWiRel-nD"
   },
   "outputs": [],
   "source": [
    "# importing our favorite libraries\n",
    "import numpy as np\n",
    "import pandas as pd\n",
    "\n",
    "from sklearn.model_selection import train_test_split\n",
    "from sklearn.metrics import f1_score,accuracy_score"
   ]
  },
  {
   "cell_type": "markdown",
   "metadata": {
    "colab_type": "text",
    "id": "ak6svyU9lvGj"
   },
   "source": [
    "Let us first create an artificial imabalanced dataset\n",
    "We use 5 features drawn from a standard normal distribution and sample 1010 such rows."
   ]
  },
  {
   "cell_type": "code",
   "execution_count": 2,
   "metadata": {
    "colab": {},
    "colab_type": "code",
    "id": "VXkOhTBv14S4"
   },
   "outputs": [],
   "source": [
    "np.random.seed(1);\n",
    "data = np.random.normal(0,1,(1010,5))"
   ]
  },
  {
   "cell_type": "code",
   "execution_count": 3,
   "metadata": {
    "colab": {},
    "colab_type": "code",
    "id": "4yGQTCL02WY9"
   },
   "outputs": [],
   "source": [
    "# make a dataframe\n",
    "df = pd.DataFrame(data)"
   ]
  },
  {
   "cell_type": "code",
   "execution_count": 4,
   "metadata": {
    "colab": {},
    "colab_type": "code",
    "id": "kjzsKsa82eTX"
   },
   "outputs": [],
   "source": [
    "df[5] = df[0] + df[1] + df[2] + df[3] + df[4]"
   ]
  },
  {
   "cell_type": "code",
   "execution_count": 5,
   "metadata": {
    "colab": {
     "base_uri": "https://localhost:8080/",
     "height": 34
    },
    "colab_type": "code",
    "executionInfo": {
     "elapsed": 13865,
     "status": "ok",
     "timestamp": 1566065365076,
     "user": {
      "displayName": "Aditya Lahiri",
      "photoUrl": "https://lh4.googleusercontent.com/-LJvczDZOSGI/AAAAAAAAAAI/AAAAAAAAK5w/e-bFAsJ7YPM/s64/photo.jpg",
      "userId": "09797028079853539430"
     },
     "user_tz": -330
    },
    "id": "-WSXcccT2rry",
    "outputId": "0aa513ef-97a8-4b0c-dc01-9a655443ec48"
   },
   "outputs": [
    {
     "data": {
      "text/plain": [
       "(41, 6)"
      ]
     },
     "execution_count": 5,
     "metadata": {},
     "output_type": "execute_result"
    }
   ],
   "source": [
    "df[df[5]>4].shape"
   ]
  },
  {
   "cell_type": "code",
   "execution_count": 6,
   "metadata": {
    "colab": {},
    "colab_type": "code",
    "id": "5NOavbhn215m"
   },
   "outputs": [],
   "source": [
    "label = []\n",
    "for i in df[5].values:\n",
    "    if i>4:\n",
    "        label.append(1)\n",
    "    else:\n",
    "        label.append(0)"
   ]
  },
  {
   "cell_type": "code",
   "execution_count": 7,
   "metadata": {
    "colab": {},
    "colab_type": "code",
    "id": "OqJFIE-v3eOB"
   },
   "outputs": [],
   "source": [
    "df[6] = label"
   ]
  },
  {
   "cell_type": "code",
   "execution_count": 8,
   "metadata": {
    "colab": {},
    "colab_type": "code",
    "id": "aKV3Tkul3v6R"
   },
   "outputs": [],
   "source": [
    "df.drop(columns=[5],inplace=True)\n",
    "df.rename(columns={6:'label'},inplace=True)"
   ]
  },
  {
   "cell_type": "code",
   "execution_count": 9,
   "metadata": {
    "colab": {
     "base_uri": "https://localhost:8080/",
     "height": 204
    },
    "colab_type": "code",
    "executionInfo": {
     "elapsed": 12958,
     "status": "ok",
     "timestamp": 1566065365452,
     "user": {
      "displayName": "Aditya Lahiri",
      "photoUrl": "https://lh4.googleusercontent.com/-LJvczDZOSGI/AAAAAAAAAAI/AAAAAAAAK5w/e-bFAsJ7YPM/s64/photo.jpg",
      "userId": "09797028079853539430"
     },
     "user_tz": -330
    },
    "id": "svmg8DAf4GCC",
    "outputId": "2c9965fa-688a-4c3f-bd4b-2b611306a581"
   },
   "outputs": [
    {
     "data": {
      "text/html": [
       "<div>\n",
       "<style scoped>\n",
       "    .dataframe tbody tr th:only-of-type {\n",
       "        vertical-align: middle;\n",
       "    }\n",
       "\n",
       "    .dataframe tbody tr th {\n",
       "        vertical-align: top;\n",
       "    }\n",
       "\n",
       "    .dataframe thead th {\n",
       "        text-align: right;\n",
       "    }\n",
       "</style>\n",
       "<table border=\"1\" class=\"dataframe\">\n",
       "  <thead>\n",
       "    <tr style=\"text-align: right;\">\n",
       "      <th></th>\n",
       "      <th>0</th>\n",
       "      <th>1</th>\n",
       "      <th>2</th>\n",
       "      <th>3</th>\n",
       "      <th>4</th>\n",
       "      <th>label</th>\n",
       "    </tr>\n",
       "  </thead>\n",
       "  <tbody>\n",
       "    <tr>\n",
       "      <td>0</td>\n",
       "      <td>1.624345</td>\n",
       "      <td>-0.611756</td>\n",
       "      <td>-0.528172</td>\n",
       "      <td>-1.072969</td>\n",
       "      <td>0.865408</td>\n",
       "      <td>0</td>\n",
       "    </tr>\n",
       "    <tr>\n",
       "      <td>1</td>\n",
       "      <td>-2.301539</td>\n",
       "      <td>1.744812</td>\n",
       "      <td>-0.761207</td>\n",
       "      <td>0.319039</td>\n",
       "      <td>-0.249370</td>\n",
       "      <td>0</td>\n",
       "    </tr>\n",
       "    <tr>\n",
       "      <td>2</td>\n",
       "      <td>1.462108</td>\n",
       "      <td>-2.060141</td>\n",
       "      <td>-0.322417</td>\n",
       "      <td>-0.384054</td>\n",
       "      <td>1.133769</td>\n",
       "      <td>0</td>\n",
       "    </tr>\n",
       "    <tr>\n",
       "      <td>3</td>\n",
       "      <td>-1.099891</td>\n",
       "      <td>-0.172428</td>\n",
       "      <td>-0.877858</td>\n",
       "      <td>0.042214</td>\n",
       "      <td>0.582815</td>\n",
       "      <td>0</td>\n",
       "    </tr>\n",
       "    <tr>\n",
       "      <td>4</td>\n",
       "      <td>-1.100619</td>\n",
       "      <td>1.144724</td>\n",
       "      <td>0.901591</td>\n",
       "      <td>0.502494</td>\n",
       "      <td>0.900856</td>\n",
       "      <td>0</td>\n",
       "    </tr>\n",
       "  </tbody>\n",
       "</table>\n",
       "</div>"
      ],
      "text/plain": [
       "          0         1         2         3         4  label\n",
       "0  1.624345 -0.611756 -0.528172 -1.072969  0.865408      0\n",
       "1 -2.301539  1.744812 -0.761207  0.319039 -0.249370      0\n",
       "2  1.462108 -2.060141 -0.322417 -0.384054  1.133769      0\n",
       "3 -1.099891 -0.172428 -0.877858  0.042214  0.582815      0\n",
       "4 -1.100619  1.144724  0.901591  0.502494  0.900856      0"
      ]
     },
     "execution_count": 9,
     "metadata": {},
     "output_type": "execute_result"
    }
   ],
   "source": [
    "df.head()"
   ]
  },
  {
   "cell_type": "code",
   "execution_count": 10,
   "metadata": {
    "colab": {
     "base_uri": "https://localhost:8080/",
     "height": 68
    },
    "colab_type": "code",
    "executionInfo": {
     "elapsed": 11156,
     "status": "ok",
     "timestamp": 1566065365455,
     "user": {
      "displayName": "Aditya Lahiri",
      "photoUrl": "https://lh4.googleusercontent.com/-LJvczDZOSGI/AAAAAAAAAAI/AAAAAAAAK5w/e-bFAsJ7YPM/s64/photo.jpg",
      "userId": "09797028079853539430"
     },
     "user_tz": -330
    },
    "id": "YL2hiN8N4ONQ",
    "outputId": "99b6bd0f-18fa-4fb5-eebf-50d876ede210"
   },
   "outputs": [
    {
     "data": {
      "text/plain": [
       "0    969\n",
       "1     41\n",
       "Name: label, dtype: int64"
      ]
     },
     "execution_count": 10,
     "metadata": {},
     "output_type": "execute_result"
    }
   ],
   "source": [
    "df['label'].value_counts()"
   ]
  },
  {
   "cell_type": "code",
   "execution_count": 11,
   "metadata": {
    "colab": {},
    "colab_type": "code",
    "id": "xkwKs6Rxm7A1"
   },
   "outputs": [],
   "source": [
    "y = df['label']\n",
    "X = df.drop(['label'],axis=1)"
   ]
  },
  {
   "cell_type": "code",
   "execution_count": 12,
   "metadata": {
    "colab": {},
    "colab_type": "code",
    "id": "AD_Fkbhum-Zz"
   },
   "outputs": [],
   "source": [
    "X_train, X_test, y_train, y_test = train_test_split(X, y, test_size=0.33, random_state=42,stratify=y)"
   ]
  },
  {
   "cell_type": "markdown",
   "metadata": {
    "colab_type": "text",
    "id": "3UYSxR_wmub5"
   },
   "source": [
    "###  First let us train and validate a standard XGBoost classifier on this dataset"
   ]
  },
  {
   "cell_type": "code",
   "execution_count": 13,
   "metadata": {
    "colab": {},
    "colab_type": "code",
    "id": "Ni3PReLy4R64"
   },
   "outputs": [],
   "source": [
    "from xgboost import XGBClassifier"
   ]
  },
  {
   "cell_type": "code",
   "execution_count": 14,
   "metadata": {
    "colab": {},
    "colab_type": "code",
    "id": "94gj5GdE4mje"
   },
   "outputs": [],
   "source": [
    "xgb = XGBClassifier(seed=42)"
   ]
  },
  {
   "cell_type": "code",
   "execution_count": 15,
   "metadata": {
    "colab": {
     "base_uri": "https://localhost:8080/",
     "height": 136
    },
    "colab_type": "code",
    "executionInfo": {
     "elapsed": 961,
     "status": "ok",
     "timestamp": 1566065369297,
     "user": {
      "displayName": "Aditya Lahiri",
      "photoUrl": "https://lh4.googleusercontent.com/-LJvczDZOSGI/AAAAAAAAAAI/AAAAAAAAK5w/e-bFAsJ7YPM/s64/photo.jpg",
      "userId": "09797028079853539430"
     },
     "user_tz": -330
    },
    "id": "r8Q-VLM245pB",
    "outputId": "8cc60410-790a-4edc-f68b-66bd0cfe9baf"
   },
   "outputs": [
    {
     "data": {
      "text/plain": [
       "XGBClassifier(base_score=0.5, booster='gbtree', colsample_bylevel=1,\n",
       "              colsample_bynode=1, colsample_bytree=1, gamma=0,\n",
       "              learning_rate=0.1, max_delta_step=0, max_depth=3,\n",
       "              min_child_weight=1, missing=None, n_estimators=100, n_jobs=1,\n",
       "              nthread=None, objective='binary:logistic', random_state=0,\n",
       "              reg_alpha=0, reg_lambda=1, scale_pos_weight=1, seed=42,\n",
       "              silent=None, subsample=1, verbosity=1)"
      ]
     },
     "execution_count": 15,
     "metadata": {},
     "output_type": "execute_result"
    }
   ],
   "source": [
    "xgb.fit(X_train,y_train)"
   ]
  },
  {
   "cell_type": "code",
   "execution_count": 16,
   "metadata": {
    "colab": {
     "base_uri": "https://localhost:8080/",
     "height": 51
    },
    "colab_type": "code",
    "executionInfo": {
     "elapsed": 778,
     "status": "ok",
     "timestamp": 1566065369298,
     "user": {
      "displayName": "Aditya Lahiri",
      "photoUrl": "https://lh4.googleusercontent.com/-LJvczDZOSGI/AAAAAAAAAAI/AAAAAAAAK5w/e-bFAsJ7YPM/s64/photo.jpg",
      "userId": "09797028079853539430"
     },
     "user_tz": -330
    },
    "id": "x8ih-_ro48TZ",
    "outputId": "8469e1a4-6ef0-4820-fd10-dc474f06556a"
   },
   "outputs": [
    {
     "name": "stdout",
     "output_type": "stream",
     "text": [
      "0.6956521739130435\n",
      "0.9790419161676647\n"
     ]
    }
   ],
   "source": [
    "print(f1_score(y_test,xgb.predict(X_test)))\n",
    "print(accuracy_score(y_test,xgb.predict(X_test)))"
   ]
  },
  {
   "cell_type": "markdown",
   "metadata": {
    "colab_type": "text",
    "id": "IigV9OPJnDrJ"
   },
   "source": [
    "Not that great, right?\n",
    "We achieve a decent f1 score and a pretty high accuracy (Sounds good, doesn't work!). \n",
    "Let us now see how much of a difference does using scale_pos_weight to balance out the effect of skewed classes has on this"
   ]
  },
  {
   "cell_type": "code",
   "execution_count": 17,
   "metadata": {},
   "outputs": [],
   "source": [
    "class_weight = int(y_train.value_counts()[0]/y_train.value_counts()[1])"
   ]
  },
  {
   "cell_type": "code",
   "execution_count": 18,
   "metadata": {},
   "outputs": [
    {
     "data": {
      "text/plain": [
       "24"
      ]
     },
     "execution_count": 18,
     "metadata": {},
     "output_type": "execute_result"
    }
   ],
   "source": [
    "class_weight"
   ]
  },
  {
   "cell_type": "code",
   "execution_count": 19,
   "metadata": {
    "colab": {},
    "colab_type": "code",
    "id": "_nf9vZAl5M5r"
   },
   "outputs": [],
   "source": [
    "xgb = XGBClassifier(scale_pos_weight=class_weight,seed=42)"
   ]
  },
  {
   "cell_type": "code",
   "execution_count": 20,
   "metadata": {
    "colab": {
     "base_uri": "https://localhost:8080/",
     "height": 136
    },
    "colab_type": "code",
    "executionInfo": {
     "elapsed": 733,
     "status": "ok",
     "timestamp": 1566065371851,
     "user": {
      "displayName": "Aditya Lahiri",
      "photoUrl": "https://lh4.googleusercontent.com/-LJvczDZOSGI/AAAAAAAAAAI/AAAAAAAAK5w/e-bFAsJ7YPM/s64/photo.jpg",
      "userId": "09797028079853539430"
     },
     "user_tz": -330
    },
    "id": "sd1aIWye5XAj",
    "outputId": "acf3436e-be2f-4c27-ead1-aa730219980c"
   },
   "outputs": [
    {
     "data": {
      "text/plain": [
       "XGBClassifier(base_score=0.5, booster='gbtree', colsample_bylevel=1,\n",
       "              colsample_bynode=1, colsample_bytree=1, gamma=0,\n",
       "              learning_rate=0.1, max_delta_step=0, max_depth=3,\n",
       "              min_child_weight=1, missing=None, n_estimators=100, n_jobs=1,\n",
       "              nthread=None, objective='binary:logistic', random_state=0,\n",
       "              reg_alpha=0, reg_lambda=1, scale_pos_weight=24, seed=42,\n",
       "              silent=None, subsample=1, verbosity=1)"
      ]
     },
     "execution_count": 20,
     "metadata": {},
     "output_type": "execute_result"
    }
   ],
   "source": [
    "xgb.fit(X_train,y_train)"
   ]
  },
  {
   "cell_type": "code",
   "execution_count": 21,
   "metadata": {
    "colab": {
     "base_uri": "https://localhost:8080/",
     "height": 51
    },
    "colab_type": "code",
    "executionInfo": {
     "elapsed": 695,
     "status": "ok",
     "timestamp": 1566065373150,
     "user": {
      "displayName": "Aditya Lahiri",
      "photoUrl": "https://lh4.googleusercontent.com/-LJvczDZOSGI/AAAAAAAAAAI/AAAAAAAAK5w/e-bFAsJ7YPM/s64/photo.jpg",
      "userId": "09797028079853539430"
     },
     "user_tz": -330
    },
    "id": "NetXDerC5Yav",
    "outputId": "71f04e30-ba9b-4380-9b88-422a2ba16592"
   },
   "outputs": [
    {
     "name": "stdout",
     "output_type": "stream",
     "text": [
      "0.8148148148148148\n",
      "0.9850299401197605\n"
     ]
    }
   ],
   "source": [
    "print(f1_score(y_test,xgb.predict(X_test)))\n",
    "print(accuracy_score(y_test,xgb.predict(X_test)))"
   ]
  },
  {
   "cell_type": "markdown",
   "metadata": {
    "colab_type": "text",
    "id": "6XfHQfvTnXdY"
   },
   "source": [
    "Wow, that worked! \n",
    "We just made quite a leap in the f1 score! That really did do wonders. The accuracy also improved a tad, but we don't really want to read too much into the accuracy because it is a useless metric here.\n",
    "Why don't we take a little detour and show how useless accuracy really is here. \n"
   ]
  },
  {
   "cell_type": "code",
   "execution_count": 22,
   "metadata": {
    "colab": {
     "base_uri": "https://localhost:8080/",
     "height": 34
    },
    "colab_type": "code",
    "executionInfo": {
     "elapsed": 725,
     "status": "ok",
     "timestamp": 1566065374888,
     "user": {
      "displayName": "Aditya Lahiri",
      "photoUrl": "https://lh4.googleusercontent.com/-LJvczDZOSGI/AAAAAAAAAAI/AAAAAAAAK5w/e-bFAsJ7YPM/s64/photo.jpg",
      "userId": "09797028079853539430"
     },
     "user_tz": -330
    },
    "id": "l8g90iAq76YK",
    "outputId": "e2cd4c5f-de40-498c-ecc8-a0ce8e2c17e6"
   },
   "outputs": [
    {
     "name": "stdout",
     "output_type": "stream",
     "text": [
      "0.9580838323353293\n"
     ]
    }
   ],
   "source": [
    "print(accuracy_score(y_test,[0 for i in range(len(X_test)) ] ))"
   ]
  },
  {
   "cell_type": "markdown",
   "metadata": {
    "colab_type": "text",
    "id": "bgXNZBnNoObs"
   },
   "source": [
    "We just predicted all zeros(!) {the majority class} without any sort of model, and that gave us an accuracy of 89. Now we know why we don't need accuracy here."
   ]
  },
  {
   "cell_type": "markdown",
   "metadata": {
    "colab_type": "text",
    "id": "NlfHSLa5obIn"
   },
   "source": [
    "Imblearn\n",
    "Lets try out the Balanced version of the famous Random Forest Classifier from imblearn and see how it fares"
   ]
  },
  {
   "cell_type": "code",
   "execution_count": 23,
   "metadata": {
    "colab": {},
    "colab_type": "code",
    "id": "KxrTqhc2A86S"
   },
   "outputs": [],
   "source": [
    "from imblearn.ensemble import BalancedRandomForestClassifier"
   ]
  },
  {
   "cell_type": "code",
   "execution_count": 24,
   "metadata": {
    "colab": {},
    "colab_type": "code",
    "id": "GlwmBe_FA-fl"
   },
   "outputs": [],
   "source": [
    "brf = BalancedRandomForestClassifier(n_estimators=300,random_state=0)"
   ]
  },
  {
   "cell_type": "code",
   "execution_count": 25,
   "metadata": {
    "colab": {
     "base_uri": "https://localhost:8080/",
     "height": 170
    },
    "colab_type": "code",
    "executionInfo": {
     "elapsed": 1930,
     "status": "ok",
     "timestamp": 1566065576690,
     "user": {
      "displayName": "Aditya Lahiri",
      "photoUrl": "https://lh4.googleusercontent.com/-LJvczDZOSGI/AAAAAAAAAAI/AAAAAAAAK5w/e-bFAsJ7YPM/s64/photo.jpg",
      "userId": "09797028079853539430"
     },
     "user_tz": -330
    },
    "id": "b5r3wPOCBL2U",
    "outputId": "c41dd137-3355-496c-ad2a-bcb584f5ea79"
   },
   "outputs": [
    {
     "data": {
      "text/plain": [
       "BalancedRandomForestClassifier(bootstrap=True, class_weight=None,\n",
       "                               criterion='gini', max_depth=None,\n",
       "                               max_features='auto', max_leaf_nodes=None,\n",
       "                               min_impurity_decrease=0.0, min_samples_leaf=2,\n",
       "                               min_samples_split=2,\n",
       "                               min_weight_fraction_leaf=0.0, n_estimators=300,\n",
       "                               n_jobs=1, oob_score=False, random_state=0,\n",
       "                               replacement=False, sampling_strategy='auto',\n",
       "                               verbose=0, warm_start=False)"
      ]
     },
     "execution_count": 25,
     "metadata": {},
     "output_type": "execute_result"
    }
   ],
   "source": [
    "brf.fit(X_train,y_train)"
   ]
  },
  {
   "cell_type": "code",
   "execution_count": 26,
   "metadata": {
    "colab": {
     "base_uri": "https://localhost:8080/",
     "height": 34
    },
    "colab_type": "code",
    "executionInfo": {
     "elapsed": 1228,
     "status": "ok",
     "timestamp": 1566065576692,
     "user": {
      "displayName": "Aditya Lahiri",
      "photoUrl": "https://lh4.googleusercontent.com/-LJvczDZOSGI/AAAAAAAAAAI/AAAAAAAAK5w/e-bFAsJ7YPM/s64/photo.jpg",
      "userId": "09797028079853539430"
     },
     "user_tz": -330
    },
    "id": "mTGVcByABOJz",
    "outputId": "a1e4b20d-5edd-41b5-9675-3b77a1e60b46"
   },
   "outputs": [
    {
     "name": "stdout",
     "output_type": "stream",
     "text": [
      "0.4\n"
     ]
    }
   ],
   "source": [
    "print(f1_score(y_test,brf.predict(X_test)))"
   ]
  },
  {
   "cell_type": "markdown",
   "metadata": {
    "colab_type": "text",
    "id": "Vy3x_0e3otkB"
   },
   "source": [
    "### Neat!\n",
    "We scored a decent f1 score  by using the imblearn version of Random Forest that's been created to handle imbalanced classes. Let us now see how vanilla sklearn Random Forest implementation fares on the same task. "
   ]
  },
  {
   "cell_type": "code",
   "execution_count": 27,
   "metadata": {
    "colab": {},
    "colab_type": "code",
    "id": "8j1dPQ4tBSK2"
   },
   "outputs": [],
   "source": [
    "from sklearn.ensemble import RandomForestClassifier"
   ]
  },
  {
   "cell_type": "code",
   "execution_count": 28,
   "metadata": {
    "colab": {},
    "colab_type": "code",
    "id": "V30N6hoOBoke"
   },
   "outputs": [],
   "source": [
    "rf = RandomForestClassifier(n_estimators=300)"
   ]
  },
  {
   "cell_type": "code",
   "execution_count": 29,
   "metadata": {
    "colab": {
     "base_uri": "https://localhost:8080/",
     "height": 136
    },
    "colab_type": "code",
    "executionInfo": {
     "elapsed": 15210,
     "status": "ok",
     "timestamp": 1566065470878,
     "user": {
      "displayName": "Aditya Lahiri",
      "photoUrl": "https://lh4.googleusercontent.com/-LJvczDZOSGI/AAAAAAAAAAI/AAAAAAAAK5w/e-bFAsJ7YPM/s64/photo.jpg",
      "userId": "09797028079853539430"
     },
     "user_tz": -330
    },
    "id": "5fCt7fG_Bqi3",
    "outputId": "ee1f8926-06e7-458e-bc7d-2a7f86e33a51"
   },
   "outputs": [
    {
     "data": {
      "text/plain": [
       "RandomForestClassifier(bootstrap=True, class_weight=None, criterion='gini',\n",
       "                       max_depth=None, max_features='auto', max_leaf_nodes=None,\n",
       "                       min_impurity_decrease=0.0, min_impurity_split=None,\n",
       "                       min_samples_leaf=1, min_samples_split=2,\n",
       "                       min_weight_fraction_leaf=0.0, n_estimators=300,\n",
       "                       n_jobs=None, oob_score=False, random_state=None,\n",
       "                       verbose=0, warm_start=False)"
      ]
     },
     "execution_count": 29,
     "metadata": {},
     "output_type": "execute_result"
    }
   ],
   "source": [
    "rf.fit(X_train,y_train)"
   ]
  },
  {
   "cell_type": "code",
   "execution_count": 30,
   "metadata": {
    "colab": {
     "base_uri": "https://localhost:8080/",
     "height": 34
    },
    "colab_type": "code",
    "executionInfo": {
     "elapsed": 14412,
     "status": "ok",
     "timestamp": 1566065471464,
     "user": {
      "displayName": "Aditya Lahiri",
      "photoUrl": "https://lh4.googleusercontent.com/-LJvczDZOSGI/AAAAAAAAAAI/AAAAAAAAK5w/e-bFAsJ7YPM/s64/photo.jpg",
      "userId": "09797028079853539430"
     },
     "user_tz": -330
    },
    "id": "l3x_lx3nBsON",
    "outputId": "4cb17fd0-5f49-4503-a4ce-f03c0ba88db4"
   },
   "outputs": [
    {
     "name": "stdout",
     "output_type": "stream",
     "text": [
      "0.35294117647058826\n"
     ]
    }
   ],
   "source": [
    "print(f1_score(y_test,rf.predict(X_test)))"
   ]
  },
  {
   "cell_type": "markdown",
   "metadata": {
    "colab_type": "text",
    "id": "2ZvfRSQzpFrZ"
   },
   "source": [
    "### Vanilla Random Forests don't quite kill it.\n",
    "The vanilla implementation wasn't built to deal with skewed classes and its results show that.\n",
    "What if we use the hyperparameters of the vanilla implementation to let it know that we are dealing with skewed classes here?"
   ]
  },
  {
   "cell_type": "code",
   "execution_count": 31,
   "metadata": {
    "colab": {},
    "colab_type": "code",
    "id": "5DrWqJUGBuW9"
   },
   "outputs": [],
   "source": [
    "rf = RandomForestClassifier(n_estimators=300,class_weight= {0:1,1:class_weight})"
   ]
  },
  {
   "cell_type": "code",
   "execution_count": 32,
   "metadata": {
    "colab": {
     "base_uri": "https://localhost:8080/",
     "height": 136
    },
    "colab_type": "code",
    "executionInfo": {
     "elapsed": 1693,
     "status": "ok",
     "timestamp": 1566065563504,
     "user": {
      "displayName": "Aditya Lahiri",
      "photoUrl": "https://lh4.googleusercontent.com/-LJvczDZOSGI/AAAAAAAAAAI/AAAAAAAAK5w/e-bFAsJ7YPM/s64/photo.jpg",
      "userId": "09797028079853539430"
     },
     "user_tz": -330
    },
    "id": "4tObj2keB1Xg",
    "outputId": "ad33e4e8-a75d-43d7-d0f1-bfc28df4b665"
   },
   "outputs": [
    {
     "data": {
      "text/plain": [
       "RandomForestClassifier(bootstrap=True, class_weight={0: 1, 1: 24},\n",
       "                       criterion='gini', max_depth=None, max_features='auto',\n",
       "                       max_leaf_nodes=None, min_impurity_decrease=0.0,\n",
       "                       min_impurity_split=None, min_samples_leaf=1,\n",
       "                       min_samples_split=2, min_weight_fraction_leaf=0.0,\n",
       "                       n_estimators=300, n_jobs=None, oob_score=False,\n",
       "                       random_state=None, verbose=0, warm_start=False)"
      ]
     },
     "execution_count": 32,
     "metadata": {},
     "output_type": "execute_result"
    }
   ],
   "source": [
    "rf.fit(X_train,y_train)"
   ]
  },
  {
   "cell_type": "code",
   "execution_count": 33,
   "metadata": {
    "colab": {
     "base_uri": "https://localhost:8080/",
     "height": 34
    },
    "colab_type": "code",
    "executionInfo": {
     "elapsed": 1514,
     "status": "ok",
     "timestamp": 1566065563506,
     "user": {
      "displayName": "Aditya Lahiri",
      "photoUrl": "https://lh4.googleusercontent.com/-LJvczDZOSGI/AAAAAAAAAAI/AAAAAAAAK5w/e-bFAsJ7YPM/s64/photo.jpg",
      "userId": "09797028079853539430"
     },
     "user_tz": -330
    },
    "id": "iLthID0pB2p1",
    "outputId": "52288138-76ca-406c-d3cf-b69060660399"
   },
   "outputs": [
    {
     "name": "stdout",
     "output_type": "stream",
     "text": [
      "0.5263157894736842\n"
     ]
    }
   ],
   "source": [
    "print(f1_score(y_test,rf.predict(X_test)))"
   ]
  },
  {
   "cell_type": "markdown",
   "metadata": {
    "colab_type": "text",
    "id": "hJ4_jaRVpdhg"
   },
   "source": [
    "### Improvement!\n",
    "That did much better than the vanilla Random Forest without the class_weight parameters set.\n",
    "This also did better than the highly specialised BalancedRandomForestClassifier of Imblearn\n",
    "However, practically both of these go neck to neck, and it is better to try out both of them before going ahead with one."
   ]
  },
  {
   "cell_type": "markdown",
   "metadata": {
    "colab_type": "text",
    "id": "soHz7ZUTqAA_"
   },
   "source": [
    "### Bad splitting in action!\n",
    "\n",
    "Many datasets have rows sorted by classes.\n",
    "So, here all class 0 rows would be first and then class 1 rows.\n",
    "Let's artificially create the scenario first."
   ]
  },
  {
   "cell_type": "code",
   "execution_count": 34,
   "metadata": {
    "colab": {},
    "colab_type": "code",
    "id": "nryNgzi4B4fo"
   },
   "outputs": [],
   "source": [
    "df =  df.sort_values(by=['label'])"
   ]
  },
  {
   "cell_type": "code",
   "execution_count": 35,
   "metadata": {
    "colab": {},
    "colab_type": "code",
    "id": "RVMCVvzwqsql"
   },
   "outputs": [],
   "source": [
    "X = df.drop(['label'],axis=1)\n",
    "y = df['label']"
   ]
  },
  {