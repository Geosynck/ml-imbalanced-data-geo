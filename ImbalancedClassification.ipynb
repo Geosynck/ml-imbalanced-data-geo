
{
 "cells": [
  {
   "cell_type": "markdown",
   "metadata": {
    "colab_type": "text",
    "id": "K8iv08gCl4tG"
   },
   "source": [
    "### The Imbalanced Classification Notebook"
   ]
  },
  {
   "cell_type": "code",
   "execution_count": 1,
   "metadata": {
    "colab": {},
    "colab_type": "code",
    "id": "hZbxWiRel-nD"
   },
   "outputs": [],
   "source": [
    "# importing our favorite libraries\n",
    "import numpy as np\n",